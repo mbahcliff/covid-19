{
 "cells": [
  {
   "cell_type": "markdown",
   "metadata": {},
   "source": [
    "## COVID - 19\n",
    "Coronavirus is a pandemic which started in China. It is caused by a virus that spread from person to person. Symptoms ranges from mild to severe illness.\n",
    "You can become infected by coming into close contact (about 6 feet or two\n",
    "arm lengths) with a person who has COVID-19. COVID-19 is primarily spread\n",
    "from person to person.\n",
    "You can become infected from respiratory droplets when an infected person coughs,sneezes, or talks.\n",
    "You may also get it by touching a surface or object that has the virus on it, and then by touching your mouth, nose, or eyes.\n",
    "The European Center for Diseases Prevention and Control(ECDC) collects data on the geographic distribution of COVID-19 cases worldwide"
   ]
  },
  {
   "cell_type": "code",
   "execution_count": 53,
   "metadata": {},
   "outputs": [],
   "source": [
    "from IPython.display import Image\n",
    "from IPython.core.display import HTML "
   ]
  },
  {
   "cell_type": "code",
   "execution_count": 90,
   "metadata": {},
   "outputs": [
    {
     "data": {
      "text/html": [
       "<img src=\"https://www.insidescience.org/sites/default/files/sites/default/files/images/articles/top-images/2020/coronavirus.jpg\"/>"
      ],
      "text/plain": [
       "<IPython.core.display.Image object>"
      ]
     },
     "execution_count": 90,
     "metadata": {},
     "output_type": "execute_result"
    }
   ],
   "source": [
    "Image(url= \"https://www.insidescience.org/sites/default/files/sites/default/files/images/articles/top-images/2020/coronavirus.jpg\")"
   ]
  },
  {
   "cell_type": "markdown",
   "metadata": {},
   "source": [
    "## ECDC COVID-19 data collection\n",
    "ECDC collects covid-19 data worldwide on dily bases. My analysis will be based on data up to July 25, 2020.\n",
    "Dataset website : https://www.ecdc.europa.eu/en/publications-data/download-todays-data-geographic-distribution-covid-19-cases-worldwide\n",
    "Link to dataset: https://opendata.ecdc.europa.eu/covid19/casedistribution/csv"
   ]
  },
  {
   "cell_type": "code",
   "execution_count": 57,
   "metadata": {},
   "outputs": [],
   "source": [
    "#LIbaries\n",
    "import pandas as pd\n",
    "import numpy as np\n",
    "import matplotlib.pyplot as plt\n",
    "import seaborn as sns"
   ]
  },
  {
   "cell_type": "code",
   "execution_count": 58,
   "metadata": {},
   "outputs": [],
   "source": [
    "df = pd.read_csv('https://opendata.ecdc.europa.eu/covid19/casedistribution/csv')"
   ]
  },
  {
   "cell_type": "code",
   "execution_count": 60,
   "metadata": {},
   "outputs": [
    {
     "data": {
      "text/html": [
       "<div>\n",
       "<style scoped>\n",
       "    .dataframe tbody tr th:only-of-type {\n",
       "        vertical-align: middle;\n",
       "    }\n",
       "\n",
       "    .dataframe tbody tr th {\n",
       "        vertical-align: top;\n",
       "    }\n",
       "\n",
       "    .dataframe thead th {\n",
       "        text-align: right;\n",
       "    }\n",
       "</style>\n",
       "<table border=\"1\" class=\"dataframe\">\n",
       "  <thead>\n",
       "    <tr style=\"text-align: right;\">\n",
       "      <th></th>\n",
       "      <th>dateRep</th>\n",
       "      <th>day</th>\n",
       "      <th>month</th>\n",
       "      <th>year</th>\n",
       "      <th>cases</th>\n",
       "      <th>deaths</th>\n",
       "      <th>countriesAndTerritories</th>\n",
       "      <th>geoId</th>\n",
       "      <th>countryterritoryCode</th>\n",
       "      <th>popData2019</th>\n",
       "      <th>continentExp</th>\n",
       "      <th>Cumulative_number_for_14_days_of_COVID-19_cases_per_100000</th>\n",
       "    </tr>\n",
       "  </thead>\n",
       "  <tbody>\n",
       "    <tr>\n",
       "      <td>0</td>\n",
       "      <td>31/07/2020</td>\n",
       "      <td>31</td>\n",
       "      <td>7</td>\n",
       "      <td>2020</td>\n",
       "      <td>71</td>\n",
       "      <td>0</td>\n",
       "      <td>Afghanistan</td>\n",
       "      <td>AF</td>\n",
       "      <td>AFG</td>\n",
       "      <td>38041757.0</td>\n",
       "      <td>Asia</td>\n",
       "      <td>3.869432</td>\n",
       "    </tr>\n",
       "    <tr>\n",
       "      <td>1</td>\n",
       "      <td>30/07/2020</td>\n",
       "      <td>30</td>\n",
       "      <td>7</td>\n",
       "      <td>2020</td>\n",
       "      <td>0</td>\n",
       "      <td>0</td>\n",
       "      <td>Afghanistan</td>\n",
       "      <td>AF</td>\n",
       "      <td>AFG</td>\n",
       "      <td>38041757.0</td>\n",
       "      <td>Asia</td>\n",
       "      <td>3.882576</td>\n",
       "    </tr>\n",
       "    <tr>\n",
       "      <td>2</td>\n",
       "      <td>29/07/2020</td>\n",
       "      <td>29</td>\n",
       "      <td>7</td>\n",
       "      <td>2020</td>\n",
       "      <td>103</td>\n",
       "      <td>1</td>\n",
       "      <td>Afghanistan</td>\n",
       "      <td>AF</td>\n",
       "      <td>AFG</td>\n",
       "      <td>38041757.0</td>\n",
       "      <td>Asia</td>\n",
       "      <td>4.550263</td>\n",
       "    </tr>\n",
       "    <tr>\n",
       "      <td>3</td>\n",
       "      <td>28/07/2020</td>\n",
       "      <td>28</td>\n",
       "      <td>7</td>\n",
       "      <td>2020</td>\n",
       "      <td>105</td>\n",
       "      <td>1</td>\n",
       "      <td>Afghanistan</td>\n",
       "      <td>AF</td>\n",
       "      <td>AFG</td>\n",
       "      <td>38041757.0</td>\n",
       "      <td>Asia</td>\n",
       "      <td>5.028685</td>\n",
       "    </tr>\n",
       "    <tr>\n",
       "      <td>4</td>\n",
       "      <td>27/07/2020</td>\n",
       "      <td>27</td>\n",
       "      <td>7</td>\n",
       "      <td>2020</td>\n",
       "      <td>106</td>\n",
       "      <td>10</td>\n",
       "      <td>Afghanistan</td>\n",
       "      <td>AF</td>\n",
       "      <td>AFG</td>\n",
       "      <td>38041757.0</td>\n",
       "      <td>Asia</td>\n",
       "      <td>4.763187</td>\n",
       "    </tr>\n",
       "  </tbody>\n",
       "</table>\n",
       "</div>"
      ],
      "text/plain": [
       "      dateRep  day  month  year  cases  deaths countriesAndTerritories geoId  \\\n",
       "0  31/07/2020   31      7  2020     71       0             Afghanistan    AF   \n",
       "1  30/07/2020   30      7  2020      0       0             Afghanistan    AF   \n",
       "2  29/07/2020   29      7  2020    103       1             Afghanistan    AF   \n",
       "3  28/07/2020   28      7  2020    105       1             Afghanistan    AF   \n",
       "4  27/07/2020   27      7  2020    106      10             Afghanistan    AF   \n",
       "\n",
       "  countryterritoryCode  popData2019 continentExp  \\\n",
       "0                  AFG   38041757.0         Asia   \n",
       "1                  AFG   38041757.0         Asia   \n",
       "2                  AFG   38041757.0         Asia   \n",
       "3                  AFG   38041757.0         Asia   \n",
       "4                  AFG   38041757.0         Asia   \n",
       "\n",
       "   Cumulative_number_for_14_days_of_COVID-19_cases_per_100000  \n",
       "0                                           3.869432           \n",
       "1                                           3.882576           \n",
       "2                                           4.550263           \n",
       "3                                           5.028685           \n",
       "4                                           4.763187           "
      ]
     },
     "execution_count": 60,
     "metadata": {},
     "output_type": "execute_result"
    }
   ],
   "source": [
    "df.head()"
   ]
  },
  {
   "cell_type": "markdown",
   "metadata": {},
   "source": [
    "## Exploratory analysis"
   ]
  },
  {
   "cell_type": "markdown",
   "metadata": {},
   "source": [
    "Exploratory Data Analysis(EAD) refers to the critical process of performing initial investigations on data so as to discover patterns, to spot anomalies, to spot hypothesis, and to check assumptions with the help of summary statistics and graphical representations"
   ]
  },
  {
   "cell_type": "code",
   "execution_count": 61,
   "metadata": {},
   "outputs": [
    {
     "name": "stdout",
     "output_type": "stream",
     "text": [
      "<class 'pandas.core.frame.DataFrame'>\n",
      "RangeIndex: 33268 entries, 0 to 33267\n",
      "Data columns (total 12 columns):\n",
      "dateRep                                                       33268 non-null object\n",
      "day                                                           33268 non-null int64\n",
      "month                                                         33268 non-null int64\n",
      "year                                                          33268 non-null int64\n",
      "cases                                                         33268 non-null int64\n",
      "deaths                                                        33268 non-null int64\n",
      "countriesAndTerritories                                       33268 non-null object\n",
      "geoId                                                         33129 non-null object\n",
      "countryterritoryCode                                          33204 non-null object\n",
      "popData2019                                                   33204 non-null float64\n",
      "continentExp                                                  33268 non-null object\n",
      "Cumulative_number_for_14_days_of_COVID-19_cases_per_100000    30487 non-null float64\n",
      "dtypes: float64(2), int64(5), object(5)\n",
      "memory usage: 3.0+ MB\n"
     ]
    }
   ],
   "source": [
    "#Summary of my dataframe\n",
    "df.info()"
   ]
  },
  {
   "cell_type": "code",
   "execution_count": 62,
   "metadata": {},
   "outputs": [
    {
     "data": {
      "text/plain": [
       "dateRep                                                          0\n",
       "day                                                              0\n",
       "month                                                            0\n",
       "year                                                             0\n",
       "cases                                                            0\n",
       "deaths                                                           0\n",
       "countriesAndTerritories                                          0\n",
       "geoId                                                          139\n",
       "countryterritoryCode                                            64\n",
       "popData2019                                                     64\n",
       "continentExp                                                     0\n",
       "Cumulative_number_for_14_days_of_COVID-19_cases_per_100000    2781\n",
       "dtype: int64"
      ]
     },
     "execution_count": 62,
     "metadata": {},
     "output_type": "execute_result"
    }
   ],
   "source": [
    "#Missing values \n",
    "df.isnull().sum()"
   ]
  },
  {
   "cell_type": "code",
   "execution_count": 63,
   "metadata": {},
   "outputs": [
    {
     "data": {
      "text/plain": [
       "(33268, 12)"
      ]
     },
     "execution_count": 63,
     "metadata": {},
     "output_type": "execute_result"
    }
   ],
   "source": [
    "#Shape of dataframe\n",
    "df.shape"
   ]
  },
  {
   "cell_type": "code",
   "execution_count": 64,
   "metadata": {},
   "outputs": [
    {
     "data": {
      "text/html": [
       "<div>\n",
       "<style scoped>\n",
       "    .dataframe tbody tr th:only-of-type {\n",
       "        vertical-align: middle;\n",
       "    }\n",
       "\n",
       "    .dataframe tbody tr th {\n",
       "        vertical-align: top;\n",
       "    }\n",
       "\n",
       "    .dataframe thead th {\n",
       "        text-align: right;\n",
       "    }\n",
       "</style>\n",
       "<table border=\"1\" class=\"dataframe\">\n",
       "  <thead>\n",
       "    <tr style=\"text-align: right;\">\n",
       "      <th></th>\n",
       "      <th>day</th>\n",
       "      <th>month</th>\n",
       "      <th>year</th>\n",
       "      <th>cases</th>\n",
       "      <th>deaths</th>\n",
       "      <th>popData2019</th>\n",
       "      <th>Cumulative_number_for_14_days_of_COVID-19_cases_per_100000</th>\n",
       "    </tr>\n",
       "  </thead>\n",
       "  <tbody>\n",
       "    <tr>\n",
       "      <td>count</td>\n",
       "      <td>33268.000000</td>\n",
       "      <td>33268.000000</td>\n",
       "      <td>33268.000000</td>\n",
       "      <td>33268.00000</td>\n",
       "      <td>33268.000000</td>\n",
       "      <td>3.320400e+04</td>\n",
       "      <td>30487.000000</td>\n",
       "    </tr>\n",
       "    <tr>\n",
       "      <td>mean</td>\n",
       "      <td>16.251834</td>\n",
       "      <td>4.751773</td>\n",
       "      <td>2019.997986</td>\n",
       "      <td>519.90811</td>\n",
       "      <td>20.238367</td>\n",
       "      <td>4.481418e+07</td>\n",
       "      <td>25.407635</td>\n",
       "    </tr>\n",
       "    <tr>\n",
       "      <td>std</td>\n",
       "      <td>8.824015</td>\n",
       "      <td>1.781983</td>\n",
       "      <td>0.044832</td>\n",
       "      <td>3244.09478</td>\n",
       "      <td>122.663291</td>\n",
       "      <td>1.626403e+08</td>\n",
       "      <td>64.684412</td>\n",
       "    </tr>\n",
       "    <tr>\n",
       "      <td>min</td>\n",
       "      <td>1.000000</td>\n",
       "      <td>1.000000</td>\n",
       "      <td>2019.000000</td>\n",
       "      <td>-2461.00000</td>\n",
       "      <td>-1918.000000</td>\n",
       "      <td>8.150000e+02</td>\n",
       "      <td>-1.262589</td>\n",
       "    </tr>\n",
       "    <tr>\n",
       "      <td>25%</td>\n",
       "      <td>9.000000</td>\n",
       "      <td>4.000000</td>\n",
       "      <td>2020.000000</td>\n",
       "      <td>0.00000</td>\n",
       "      <td>0.000000</td>\n",
       "      <td>1.641164e+06</td>\n",
       "      <td>0.168642</td>\n",
       "    </tr>\n",
       "    <tr>\n",
       "      <td>50%</td>\n",
       "      <td>17.000000</td>\n",
       "      <td>5.000000</td>\n",
       "      <td>2020.000000</td>\n",
       "      <td>5.00000</td>\n",
       "      <td>0.000000</td>\n",
       "      <td>8.544527e+06</td>\n",
       "      <td>3.068131</td>\n",
       "    </tr>\n",
       "    <tr>\n",
       "      <td>75%</td>\n",
       "      <td>24.000000</td>\n",
       "      <td>6.000000</td>\n",
       "      <td>2020.000000</td>\n",
       "      <td>99.00000</td>\n",
       "      <td>2.000000</td>\n",
       "      <td>3.041786e+07</td>\n",
       "      <td>17.890745</td>\n",
       "    </tr>\n",
       "    <tr>\n",
       "      <td>max</td>\n",
       "      <td>31.000000</td>\n",
       "      <td>12.000000</td>\n",
       "      <td>2020.000000</td>\n",
       "      <td>78427.00000</td>\n",
       "      <td>4928.000000</td>\n",
       "      <td>1.433784e+09</td>\n",
       "      <td>885.924117</td>\n",
       "    </tr>\n",
       "  </tbody>\n",
       "</table>\n",
       "</div>"
      ],
      "text/plain": [
       "                day         month          year        cases        deaths  \\\n",
       "count  33268.000000  33268.000000  33268.000000  33268.00000  33268.000000   \n",
       "mean      16.251834      4.751773   2019.997986    519.90811     20.238367   \n",
       "std        8.824015      1.781983      0.044832   3244.09478    122.663291   \n",
       "min        1.000000      1.000000   2019.000000  -2461.00000  -1918.000000   \n",
       "25%        9.000000      4.000000   2020.000000      0.00000      0.000000   \n",
       "50%       17.000000      5.000000   2020.000000      5.00000      0.000000   \n",
       "75%       24.000000      6.000000   2020.000000     99.00000      2.000000   \n",
       "max       31.000000     12.000000   2020.000000  78427.00000   4928.000000   \n",
       "\n",
       "        popData2019  \\\n",
       "count  3.320400e+04   \n",
       "mean   4.481418e+07   \n",
       "std    1.626403e+08   \n",
       "min    8.150000e+02   \n",
       "25%    1.641164e+06   \n",
       "50%    8.544527e+06   \n",
       "75%    3.041786e+07   \n",
       "max    1.433784e+09   \n",
       "\n",
       "       Cumulative_number_for_14_days_of_COVID-19_cases_per_100000  \n",
       "count                                       30487.000000           \n",
       "mean                                           25.407635           \n",
       "std                                            64.684412           \n",
       "min                                            -1.262589           \n",
       "25%                                             0.168642           \n",
       "50%                                             3.068131           \n",
       "75%                                            17.890745           \n",
       "max                                           885.924117           "
      ]
     },
     "execution_count": 64,
     "metadata": {},
     "output_type": "execute_result"
    }
   ],
   "source": [
    "#Generating summary statistics, excluding NaN values.\n",
    "df.describe()"
   ]
  },
  {
   "cell_type": "markdown",
   "metadata": {},
   "source": [
    "## Visulaization\n",
    "This inolves understanding my datasets by placing it in a visual context so that patterns, trends and correlations that might not otherwise be detected can be exposed."
   ]
  },
  {
   "cell_type": "markdown",
   "metadata": {},
   "source": [
    "I will do my analysis using 9 different countries from all the continents in the world and how cvid-19 has impacted these countries and continents"
   ]
  },
  {
   "cell_type": "code",
   "execution_count": 65,
   "metadata": {},
   "outputs": [
    {
     "data": {
      "text/html": [
       "<div>\n",
       "<style scoped>\n",
       "    .dataframe tbody tr th:only-of-type {\n",
       "        vertical-align: middle;\n",
       "    }\n",
       "\n",
       "    .dataframe tbody tr th {\n",
       "        vertical-align: top;\n",
       "    }\n",
       "\n",
       "    .dataframe thead th {\n",
       "        text-align: right;\n",
       "    }\n",
       "</style>\n",
       "<table border=\"1\" class=\"dataframe\">\n",
       "  <thead>\n",
       "    <tr style=\"text-align: right;\">\n",
       "      <th></th>\n",
       "      <th>dateRep</th>\n",
       "      <th>day</th>\n",
       "      <th>month</th>\n",
       "      <th>year</th>\n",
       "      <th>cases</th>\n",
       "      <th>deaths</th>\n",
       "      <th>countriesAndTerritories</th>\n",
       "      <th>geoId</th>\n",
       "      <th>countryterritoryCode</th>\n",
       "      <th>popData2019</th>\n",
       "      <th>continentExp</th>\n",
       "      <th>Cumulative_number_for_14_days_of_COVID-19_cases_per_100000</th>\n",
       "    </tr>\n",
       "  </thead>\n",
       "  <tbody>\n",
       "    <tr>\n",
       "      <td>1574</td>\n",
       "      <td>31/07/2020</td>\n",
       "      <td>31</td>\n",
       "      <td>7</td>\n",
       "      <td>2020</td>\n",
       "      <td>721</td>\n",
       "      <td>13</td>\n",
       "      <td>Australia</td>\n",
       "      <td>AU</td>\n",
       "      <td>AUS</td>\n",
       "      <td>25203200.0</td>\n",
       "      <td>Oceania</td>\n",
       "      <td>21.794851</td>\n",
       "    </tr>\n",
       "    <tr>\n",
       "      <td>1575</td>\n",
       "      <td>30/07/2020</td>\n",
       "      <td>30</td>\n",
       "      <td>7</td>\n",
       "      <td>2020</td>\n",
       "      <td>278</td>\n",
       "      <td>9</td>\n",
       "      <td>Australia</td>\n",
       "      <td>AU</td>\n",
       "      <td>AUS</td>\n",
       "      <td>25203200.0</td>\n",
       "      <td>Oceania</td>\n",
       "      <td>20.183945</td>\n",
       "    </tr>\n",
       "    <tr>\n",
       "      <td>1576</td>\n",
       "      <td>29/07/2020</td>\n",
       "      <td>29</td>\n",
       "      <td>7</td>\n",
       "      <td>2020</td>\n",
       "      <td>369</td>\n",
       "      <td>6</td>\n",
       "      <td>Australia</td>\n",
       "      <td>AU</td>\n",
       "      <td>AUS</td>\n",
       "      <td>25203200.0</td>\n",
       "      <td>Oceania</td>\n",
       "      <td>20.049041</td>\n",
       "    </tr>\n",
       "    <tr>\n",
       "      <td>1577</td>\n",
       "      <td>28/07/2020</td>\n",
       "      <td>28</td>\n",
       "      <td>7</td>\n",
       "      <td>2020</td>\n",
       "      <td>532</td>\n",
       "      <td>6</td>\n",
       "      <td>Australia</td>\n",
       "      <td>AU</td>\n",
       "      <td>AUS</td>\n",
       "      <td>25203200.0</td>\n",
       "      <td>Oceania</td>\n",
       "      <td>19.660202</td>\n",
       "    </tr>\n",
       "    <tr>\n",
       "      <td>1578</td>\n",
       "      <td>27/07/2020</td>\n",
       "      <td>27</td>\n",
       "      <td>7</td>\n",
       "      <td>2020</td>\n",
       "      <td>453</td>\n",
       "      <td>10</td>\n",
       "      <td>Australia</td>\n",
       "      <td>AU</td>\n",
       "      <td>AUS</td>\n",
       "      <td>25203200.0</td>\n",
       "      <td>Oceania</td>\n",
       "      <td>18.275457</td>\n",
       "    </tr>\n",
       "    <tr>\n",
       "      <td>...</td>\n",
       "      <td>...</td>\n",
       "      <td>...</td>\n",
       "      <td>...</td>\n",
       "      <td>...</td>\n",
       "      <td>...</td>\n",
       "      <td>...</td>\n",
       "      <td>...</td>\n",
       "      <td>...</td>\n",
       "      <td>...</td>\n",
       "      <td>...</td>\n",
       "      <td>...</td>\n",
       "      <td>...</td>\n",
       "    </tr>\n",
       "    <tr>\n",
       "      <td>32031</td>\n",
       "      <td>04/01/2020</td>\n",
       "      <td>4</td>\n",
       "      <td>1</td>\n",
       "      <td>2020</td>\n",
       "      <td>0</td>\n",
       "      <td>0</td>\n",
       "      <td>United_States_of_America</td>\n",
       "      <td>US</td>\n",
       "      <td>USA</td>\n",
       "      <td>329064917.0</td>\n",
       "      <td>America</td>\n",
       "      <td>NaN</td>\n",
       "    </tr>\n",
       "    <tr>\n",
       "      <td>32032</td>\n",
       "      <td>03/01/2020</td>\n",
       "      <td>3</td>\n",
       "      <td>1</td>\n",
       "      <td>2020</td>\n",
       "      <td>0</td>\n",
       "      <td>0</td>\n",
       "      <td>United_States_of_America</td>\n",
       "      <td>US</td>\n",
       "      <td>USA</td>\n",
       "      <td>329064917.0</td>\n",
       "      <td>America</td>\n",
       "      <td>NaN</td>\n",
       "    </tr>\n",
       "    <tr>\n",
       "      <td>32033</td>\n",
       "      <td>02/01/2020</td>\n",
       "      <td>2</td>\n",
       "      <td>1</td>\n",
       "      <td>2020</td>\n",
       "      <td>0</td>\n",
       "      <td>0</td>\n",
       "      <td>United_States_of_America</td>\n",
       "      <td>US</td>\n",
       "      <td>USA</td>\n",
       "      <td>329064917.0</td>\n",
       "      <td>America</td>\n",
       "      <td>NaN</td>\n",
       "    </tr>\n",
       "    <tr>\n",
       "      <td>32034</td>\n",
       "      <td>01/01/2020</td>\n",
       "      <td>1</td>\n",
       "      <td>1</td>\n",
       "      <td>2020</td>\n",
       "      <td>0</td>\n",
       "      <td>0</td>\n",
       "      <td>United_States_of_America</td>\n",
       "      <td>US</td>\n",
       "      <td>USA</td>\n",
       "      <td>329064917.0</td>\n",
       "      <td>America</td>\n",
       "      <td>NaN</td>\n",
       "    </tr>\n",
       "    <tr>\n",
       "      <td>32035</td>\n",
       "      <td>31/12/2019</td>\n",
       "      <td>31</td>\n",
       "      <td>12</td>\n",
       "      <td>2019</td>\n",
       "      <td>0</td>\n",
       "      <td>0</td>\n",
       "      <td>United_States_of_America</td>\n",
       "      <td>US</td>\n",
       "      <td>USA</td>\n",
       "      <td>329064917.0</td>\n",
       "      <td>America</td>\n",
       "      <td>NaN</td>\n",
       "    </tr>\n",
       "  </tbody>\n",
       "</table>\n",
       "<p>1845 rows × 12 columns</p>\n",
       "</div>"
      ],
      "text/plain": [
       "          dateRep  day  month  year  cases  deaths   countriesAndTerritories  \\\n",
       "1574   31/07/2020   31      7  2020    721      13                 Australia   \n",
       "1575   30/07/2020   30      7  2020    278       9                 Australia   \n",
       "1576   29/07/2020   29      7  2020    369       6                 Australia   \n",
       "1577   28/07/2020   28      7  2020    532       6                 Australia   \n",
       "1578   27/07/2020   27      7  2020    453      10                 Australia   \n",
       "...           ...  ...    ...   ...    ...     ...                       ...   \n",
       "32031  04/01/2020    4      1  2020      0       0  United_States_of_America   \n",
       "32032  03/01/2020    3      1  2020      0       0  United_States_of_America   \n",
       "32033  02/01/2020    2      1  2020      0       0  United_States_of_America   \n",
       "32034  01/01/2020    1      1  2020      0       0  United_States_of_America   \n",
       "32035  31/12/2019   31     12  2019      0       0  United_States_of_America   \n",
       "\n",
       "      geoId countryterritoryCode  popData2019 continentExp  \\\n",
       "1574     AU                  AUS   25203200.0      Oceania   \n",
       "1575     AU                  AUS   25203200.0      Oceania   \n",
       "1576     AU                  AUS   25203200.0      Oceania   \n",
       "1577     AU                  AUS   25203200.0      Oceania   \n",
       "1578     AU                  AUS   25203200.0      Oceania   \n",
       "...     ...                  ...          ...          ...   \n",
       "32031    US                  USA  329064917.0      America   \n",
       "32032    US                  USA  329064917.0      America   \n",
       "32033    US                  USA  329064917.0      America   \n",
       "32034    US                  USA  329064917.0      America   \n",
       "32035    US                  USA  329064917.0      America   \n",
       "\n",
       "       Cumulative_number_for_14_days_of_COVID-19_cases_per_100000  \n",
       "1574                                           21.794851           \n",
       "1575                                           20.183945           \n",
       "1576                                           20.049041           \n",
       "1577                                           19.660202           \n",
       "1578                                           18.275457           \n",
       "...                                                  ...           \n",
       "32031                                                NaN           \n",
       "32032                                                NaN           \n",
       "32033                                                NaN           \n",
       "32034                                                NaN           \n",
       "32035                                                NaN           \n",
       "\n",
       "[1845 rows x 12 columns]"
      ]
     },
     "execution_count": 65,
     "metadata": {},
     "output_type": "execute_result"
    }
   ],
   "source": [
    "df1=df.loc[(df['countriesAndTerritories']=='China')]\n",
    "df2=df.loc[(df['countriesAndTerritories']=='Cameroon')]\n",
    "df3=df.loc[(df['countriesAndTerritories']=='United_States_of_America')]\n",
    "df4=df.loc[(df['countriesAndTerritories']=='Japan')]\n",
    "df5=df.loc[(df['countriesAndTerritories']=='France')]\n",
    "df6=df.loc[(df['countriesAndTerritories']=='Canada')]\n",
    "df7=df.loc[(df['countriesAndTerritories']=='United_Kingdom')]\n",
    "df8=df.loc[(df['countriesAndTerritories']=='Mexico')]\n",
    "df9=df.loc[(df['countriesAndTerritories']=='Australia')]\n",
    "df10 =pd.concat([df9, df6, df2, df1, df5, df4, df8, df7, df3])\n",
    "df10"
   ]
  },
  {
   "cell_type": "markdown",
   "metadata": {},
   "source": [
    "## Visualization\n",
    "Data visualization is the discipline of trying to understand data by placing it in a visual context so that patterns, trends and correlations that might not otherwise be detected can be exposed. Python offers multiple great graphing libraries that come packed with lots of different features"
   ]
  },
  {
   "cell_type": "code",
   "execution_count": 66,
   "metadata": {},
   "outputs": [
    {
     "data": {
      "text/plain": [
       "673290"
      ]
     },
     "execution_count": 66,
     "metadata": {},
     "output_type": "execute_result"
    }
   ],
   "source": [
    "df['deaths'].sum()"
   ]
  },
  {
   "cell_type": "markdown",
   "metadata": {},
   "source": [
    "## Total number of covid-19 deaths worldwide as of 07/31/2020 is 673290"
   ]
  },
  {
   "cell_type": "code",
   "execution_count": 67,
   "metadata": {},
   "outputs": [],
   "source": [
    "d = {'countriesAndTerritories':['Australia', 'Canada', 'Cameroon', 'China', 'France', 'Japan', 'Mexico', 'United_Kingdom', 'United_States'], 'deaths':[df9['deaths'].sum(), df6['deaths'].sum(), df2['deaths'].sum(), df1['deaths'].sum(), df5['deaths'].sum(), df4['deaths'].sum(), df8['deaths'].sum(), df7['deaths'].sum(), df3['deaths'].sum()]}"
   ]
  },
  {
   "cell_type": "code",
   "execution_count": 68,
   "metadata": {},
   "outputs": [
    {
     "data": {
      "text/html": [
       "<div>\n",
       "<style scoped>\n",
       "    .dataframe tbody tr th:only-of-type {\n",
       "        vertical-align: middle;\n",
       "    }\n",
       "\n",
       "    .dataframe tbody tr th {\n",
       "        vertical-align: top;\n",
       "    }\n",
       "\n",
       "    .dataframe thead th {\n",
       "        text-align: right;\n",
       "    }\n",
       "</style>\n",
       "<table border=\"1\" class=\"dataframe\">\n",
       "  <thead>\n",
       "    <tr style=\"text-align: right;\">\n",
       "      <th></th>\n",
       "      <th>countriesAndTerritories</th>\n",
       "      <th>deaths</th>\n",
       "    </tr>\n",
       "  </thead>\n",
       "  <tbody>\n",
       "    <tr>\n",
       "      <td>0</td>\n",
       "      <td>Australia</td>\n",
       "      <td>189</td>\n",
       "    </tr>\n",
       "    <tr>\n",
       "      <td>1</td>\n",
       "      <td>Canada</td>\n",
       "      <td>8929</td>\n",
       "    </tr>\n",
       "    <tr>\n",
       "      <td>2</td>\n",
       "      <td>Cameroon</td>\n",
       "      <td>387</td>\n",
       "    </tr>\n",
       "    <tr>\n",
       "      <td>3</td>\n",
       "      <td>China</td>\n",
       "      <td>4659</td>\n",
       "    </tr>\n",
       "    <tr>\n",
       "      <td>4</td>\n",
       "      <td>France</td>\n",
       "      <td>30254</td>\n",
       "    </tr>\n",
       "    <tr>\n",
       "      <td>5</td>\n",
       "      <td>Japan</td>\n",
       "      <td>1005</td>\n",
       "    </tr>\n",
       "    <tr>\n",
       "      <td>6</td>\n",
       "      <td>Mexico</td>\n",
       "      <td>46000</td>\n",
       "    </tr>\n",
       "    <tr>\n",
       "      <td>7</td>\n",
       "      <td>United_Kingdom</td>\n",
       "      <td>45999</td>\n",
       "    </tr>\n",
       "    <tr>\n",
       "      <td>8</td>\n",
       "      <td>United_States</td>\n",
       "      <td>152070</td>\n",
       "    </tr>\n",
       "  </tbody>\n",
       "</table>\n",
       "</div>"
      ],
      "text/plain": [
       "  countriesAndTerritories  deaths\n",
       "0               Australia     189\n",
       "1                  Canada    8929\n",
       "2                Cameroon     387\n",
       "3                   China    4659\n",
       "4                  France   30254\n",
       "5                   Japan    1005\n",
       "6                  Mexico   46000\n",
       "7          United_Kingdom   45999\n",
       "8           United_States  152070"
      ]
     },
     "execution_count": 68,
     "metadata": {},
     "output_type": "execute_result"
    }
   ],
   "source": [
    "df11=pd.DataFrame(d)\n",
    "df11"
   ]
  },
  {
   "cell_type": "markdown",
   "metadata": {},
   "source": [
    "## Out of the 9 countries the united state has recorded the highet number of deaths which stands at 152070 as of 07/31/2020. The US also has the highest number of deaths worldwide."
   ]
  },
  {
   "cell_type": "code",
   "execution_count": 70,
   "metadata": {},
   "outputs": [
    {
     "data": {
      "text/plain": [
       "22.586107026689834"
      ]
     },
     "execution_count": 70,
     "metadata": {},
     "output_type": "execute_result"
    }
   ],
   "source": [
    "percentage_of_covid_19_death_in_the_US = 152070/673290*100\n",
    "percentage_of_covid_19_death_in_the_US"
   ]
  },
  {
   "cell_type": "markdown",
   "metadata": {},
   "source": [
    "## The US has over 22.59% of the total covid-19 deaths worldwide"
   ]
  },
  {
   "cell_type": "markdown",
   "metadata": {},
   "source": [
    "## Pie Chart"
   ]
  },
  {
   "cell_type": "code",
   "execution_count": 72,
   "metadata": {},
   "outputs": [
    {
     "data": {
      "text/plain": [
       "<matplotlib.axes._subplots.AxesSubplot at 0x1c397c76c08>"
      ]
     },
     "execution_count": 72,
     "metadata": {},
     "output_type": "execute_result"
    },
    {
     "data": {
      "image/png": "[encoded data removed]",
      "text/plain": [
       "<Figure size 1440x720 with 1 Axes>"
      ]
     },
     "metadata": {},
     "output_type": "display_data"
    }
   ],
   "source": [
    "df11.plot(kind='pie',labels=['Australia', 'Canada', 'Cameroon', 'China', 'France', 'Japan', 'Mexico', 'United_Kingdom', 'United_States'], y='deaths', figsize=(20, 10), autopct='%1.1f%%')"
   ]
  },
  {
   "cell_type": "markdown",
   "metadata": {},
   "source": [
    "## Out of the nine countries I have chosen to work with the US has the highest number of coronavirus death of 52.5% "
   ]
  },
  {
   "cell_type": "markdown",
   "metadata": {},
   "source": [
    "## Bar plot"
   ]
  },
  {
   "cell_type": "code",
   "execution_count": 83,
   "metadata": {},
   "outputs": [
    {
     "data": {
      "text/plain": [
       "<matplotlib.axes._subplots.AxesSubplot at 0x1c397b07ac8>"
      ]
     },
     "execution_count": 83,
     "metadata": {},
     "output_type": "execute_result"
    },
    {
     "data": {
      "image/png": "[encoded data removed]",
      "text/plain": [
       "<Figure size 1440x720 with 1 Axes>"
      ]
     },
     "metadata": {
      "needs_background": "light"
     },
     "output_type": "display_data"
    }
   ],
   "source": [
    "df11.plot(kind='bar',x='countriesAndTerritories',y='deaths', figsize=(20, 10), color='brown')"
   ]
  },
  {
   "cell_type": "markdown",
   "metadata": {},
   "source": [
    "## The united has the highest number of death worldwide which stands at 152070 as of 07/31/2020"
   ]
  },
  {
   "cell_type": "code",
   "execution_count": null,
   "metadata": {},
   "outputs": [],
   "source": [
    "## Covid 19 cases worldwide"
   ]
  },
  {
   "cell_type": "code",
   "execution_count": 74,
   "metadata": {},
   "outputs": [
    {
     "data": {
      "text/plain": [
       "17296303"
      ]
     },
     "execution_count": 74,
     "metadata": {},
     "output_type": "execute_result"
    }
   ],
   "source": [
    "df['cases'].sum()"
   ]
  },
  {
   "cell_type": "markdown",
   "metadata": {},
   "source": [
    "## As of 07/30/2020, they are over 17million covid 19 cases worldwide"
   ]
  },
  {
   "cell_type": "code",
   "execution_count": 75,
   "metadata": {},
   "outputs": [
    {
     "data": {
      "text/html": [
       "<div>\n",
       "<style scoped>\n",
       "    .dataframe tbody tr th:only-of-type {\n",
       "        vertical-align: middle;\n",
       "    }\n",
       "\n",
       "    .dataframe tbody tr th {\n",
       "        vertical-align: top;\n",
       "    }\n",
       "\n",
       "    .dataframe thead th {\n",
       "        text-align: right;\n",
       "    }\n",
       "</style>\n",
       "<table border=\"1\" class=\"dataframe\">\n",
       "  <thead>\n",
       "    <tr style=\"text-align: right;\">\n",
       "      <th></th>\n",
       "      <th>dateRep</th>\n",
       "      <th>day</th>\n",
       "      <th>month</th>\n",
       "      <th>year</th>\n",
       "      <th>cases</th>\n",
       "      <th>deaths</th>\n",
       "      <th>countriesAndTerritories</th>\n",
       "      <th>geoId</th>\n",
       "      <th>countryterritoryCode</th>\n",
       "      <th>popData2019</th>\n",
       "      <th>continentExp</th>\n",
       "      <th>Cumulative_number_for_14_days_of_COVID-19_cases_per_100000</th>\n",
       "    </tr>\n",
       "  </thead>\n",
       "  <tbody>\n",
       "    <tr>\n",
       "      <td>349</td>\n",
       "      <td>31/07/2020</td>\n",
       "      <td>31</td>\n",
       "      <td>7</td>\n",
       "      <td>2020</td>\n",
       "      <td>602</td>\n",
       "      <td>14</td>\n",
       "      <td>Algeria</td>\n",
       "      <td>DZ</td>\n",
       "      <td>DZA</td>\n",
       "      <td>43053054.0</td>\n",
       "      <td>Africa</td>\n",
       "      <td>19.687337</td>\n",
       "    </tr>\n",
       "    <tr>\n",
       "      <td>350</td>\n",
       "      <td>30/07/2020</td>\n",
       "      <td>30</td>\n",
       "      <td>7</td>\n",
       "      <td>2020</td>\n",
       "      <td>614</td>\n",
       "      <td>12</td>\n",
       "      <td>Algeria</td>\n",
       "      <td>DZ</td>\n",
       "      <td>DZA</td>\n",
       "      <td>43053054.0</td>\n",
       "      <td>Africa</td>\n",
       "      <td>19.647851</td>\n",
       "    </tr>\n",
       "    <tr>\n",
       "      <td>351</td>\n",
       "      <td>29/07/2020</td>\n",
       "      <td>29</td>\n",
       "      <td>7</td>\n",
       "      <td>2020</td>\n",
       "      <td>642</td>\n",
       "      <td>11</td>\n",
       "      <td>Algeria</td>\n",
       "      <td>DZ</td>\n",
       "      <td>DZA</td>\n",
       "      <td>43053054.0</td>\n",
       "      <td>Africa</td>\n",
       "      <td>19.508488</td>\n",
       "    </tr>\n",
       "    <tr>\n",
       "      <td>352</td>\n",
       "      <td>28/07/2020</td>\n",
       "      <td>28</td>\n",
       "      <td>7</td>\n",
       "      <td>2020</td>\n",
       "      <td>616</td>\n",
       "      <td>8</td>\n",
       "      <td>Algeria</td>\n",
       "      <td>DZ</td>\n",
       "      <td>DZA</td>\n",
       "      <td>43053054.0</td>\n",
       "      <td>Africa</td>\n",
       "      <td>19.241376</td>\n",
       "    </tr>\n",
       "    <tr>\n",
       "      <td>353</td>\n",
       "      <td>27/07/2020</td>\n",
       "      <td>27</td>\n",
       "      <td>7</td>\n",
       "      <td>2020</td>\n",
       "      <td>593</td>\n",
       "      <td>9</td>\n",
       "      <td>Algeria</td>\n",
       "      <td>DZ</td>\n",
       "      <td>DZA</td>\n",
       "      <td>43053054.0</td>\n",
       "      <td>Africa</td>\n",
       "      <td>18.958005</td>\n",
       "    </tr>\n",
       "    <tr>\n",
       "      <td>...</td>\n",
       "      <td>...</td>\n",
       "      <td>...</td>\n",
       "      <td>...</td>\n",
       "      <td>...</td>\n",
       "      <td>...</td>\n",
       "      <td>...</td>\n",
       "      <td>...</td>\n",
       "      <td>...</td>\n",
       "      <td>...</td>\n",
       "      <td>...</td>\n",
       "      <td>...</td>\n",
       "      <td>...</td>\n",
       "    </tr>\n",
       "    <tr>\n",
       "      <td>31680</td>\n",
       "      <td>04/01/2020</td>\n",
       "      <td>4</td>\n",
       "      <td>1</td>\n",
       "      <td>2020</td>\n",
       "      <td>0</td>\n",
       "      <td>0</td>\n",
       "      <td>United_Kingdom</td>\n",
       "      <td>UK</td>\n",
       "      <td>GBR</td>\n",
       "      <td>66647112.0</td>\n",
       "      <td>Europe</td>\n",
       "      <td>NaN</td>\n",
       "    </tr>\n",
       "    <tr>\n",
       "      <td>31681</td>\n",
       "      <td>03/01/2020</td>\n",
       "      <td>3</td>\n",
       "      <td>1</td>\n",
       "      <td>2020</td>\n",
       "      <td>0</td>\n",
       "      <td>0</td>\n",
       "      <td>United_Kingdom</td>\n",
       "      <td>UK</td>\n",
       "      <td>GBR</td>\n",
       "      <td>66647112.0</td>\n",
       "      <td>Europe</td>\n",
       "      <td>NaN</td>\n",
       "    </tr>\n",
       "    <tr>\n",
       "      <td>31682</td>\n",
       "      <td>02/01/2020</td>\n",
       "      <td>2</td>\n",
       "      <td>1</td>\n",
       "      <td>2020</td>\n",
       "      <td>0</td>\n",
       "      <td>0</td>\n",
       "      <td>United_Kingdom</td>\n",
       "      <td>UK</td>\n",
       "      <td>GBR</td>\n",
       "      <td>66647112.0</td>\n",
       "      <td>Europe</td>\n",
       "      <td>NaN</td>\n",
       "    </tr>\n",
       "    <tr>\n",
       "      <td>31683</td>\n",
       "      <td>01/01/2020</td>\n",
       "      <td>1</td>\n",
       "      <td>1</td>\n",
       "      <td>2020</td>\n",
       "      <td>0</td>\n",
       "      <td>0</td>\n",
       "      <td>United_Kingdom</td>\n",
       "      <td>UK</td>\n",
       "      <td>GBR</td>\n",
       "      <td>66647112.0</td>\n",
       "      <td>Europe</td>\n",
       "      <td>NaN</td>\n",
       "    </tr>\n",
       "    <tr>\n",
       "      <td>31684</td>\n",
       "      <td>31/12/2019</td>\n",
       "      <td>31</td>\n",
       "      <td>12</td>\n",
       "      <td>2019</td>\n",
       "      <td>0</td>\n",
       "      <td>0</td>\n",
       "      <td>United_Kingdom</td>\n",
       "      <td>UK</td>\n",
       "      <td>GBR</td>\n",
       "      <td>66647112.0</td>\n",
       "      <td>Europe</td>\n",
       "      <td>NaN</td>\n",
       "    </tr>\n",
       "  </tbody>\n",
       "</table>\n",
       "<p>31992 rows × 12 columns</p>\n",
       "</div>"
      ],
      "text/plain": [
       "          dateRep  day  month  year  cases  deaths countriesAndTerritories  \\\n",
       "349    31/07/2020   31      7  2020    602      14                 Algeria   \n",
       "350    30/07/2020   30      7  2020    614      12                 Algeria   \n",
       "351    29/07/2020   29      7  2020    642      11                 Algeria   \n",
       "352    28/07/2020   28      7  2020    616       8                 Algeria   \n",
       "353    27/07/2020   27      7  2020    593       9                 Algeria   \n",
       "...           ...  ...    ...   ...    ...     ...                     ...   \n",
       "31680  04/01/2020    4      1  2020      0       0          United_Kingdom   \n",
       "31681  03/01/2020    3      1  2020      0       0          United_Kingdom   \n",
       "31682  02/01/2020    2      1  2020      0       0          United_Kingdom   \n",
       "31683  01/01/2020    1      1  2020      0       0          United_Kingdom   \n",
       "31684  31/12/2019   31     12  2019      0       0          United_Kingdom   \n",
       "\n",
       "      geoId countryterritoryCode  popData2019 continentExp  \\\n",
       "349      DZ                  DZA   43053054.0       Africa   \n",
       "350      DZ                  DZA   43053054.0       Africa   \n",
       "351      DZ                  DZA   43053054.0       Africa   \n",
       "352      DZ                  DZA   43053054.0       Africa   \n",
       "353      DZ                  DZA   43053054.0       Africa   \n",
       "...     ...                  ...          ...          ...   \n",
       "31680    UK                  GBR   66647112.0       Europe   \n",
       "31681    UK                  GBR   66647112.0       Europe   \n",
       "31682    UK                  GBR   66647112.0       Europe   \n",
       "31683    UK                  GBR   66647112.0       Europe   \n",
       "31684    UK                  GBR   66647112.0       Europe   \n",
       "\n",
       "       Cumulative_number_for_14_days_of_COVID-19_cases_per_100000  \n",
       "349                                            19.687337           \n",
       "350                                            19.647851           \n",
       "351                                            19.508488           \n",
       "352                                            19.241376           \n",
       "353                                            18.958005           \n",
       "...                                                  ...           \n",
       "31680                                                NaN           \n",
       "31681                                                NaN           \n",
       "31682                                                NaN           \n",
       "31683                                                NaN           \n",
       "31684                                                NaN           \n",
       "\n",
       "[31992 rows x 12 columns]"
      ]
     },
     "execution_count": 75,
     "metadata": {},
     "output_type": "execute_result"
    }
   ],
   "source": [
    "df12=df.loc[(df['continentExp']=='Africa')]\n",
    "df13=df.loc[(df['continentExp']=='Asia')]\n",
    "df14=df.loc[(df['continentExp']=='America')]\n",
    "df15=df.loc[(df['continentExp']=='Europe')]\n",
    "df16=df.loc[(df['continentExp']=='Ocerania')]\n",
    "df17 =pd.concat([df12, df14, df13, df15, df16])\n",
    "df17"
   ]
  },
  {
   "cell_type": "code",
   "execution_count": 76,
   "metadata": {},
   "outputs": [],
   "source": [
    "d1 = {'continentExp':['Africa', 'America', 'Asia', 'Europe', 'Oceania'], 'deaths':[df12['deaths'].sum(), df14['deaths'].sum(), df13['deaths'].sum(), df15['deaths'].sum(), df16['deaths'].sum()], 'cases':  [df12['cases'].sum(), df14['cases'].sum(), df13['cases'].sum(), df15['cases'].sum(), df16['cases'].sum()]}"
   ]
  },
  {
   "cell_type": "code",
   "execution_count": 77,
   "metadata": {},
   "outputs": [
    {
     "data": {
      "text/html": [
       "<div>\n",
       "<style scoped>\n",
       "    .dataframe tbody tr th:only-of-type {\n",
       "        vertical-align: middle;\n",
       "    }\n",
       "\n",
       "    .dataframe tbody tr th {\n",
       "        vertical-align: top;\n",
       "    }\n",
       "\n",
       "    .dataframe thead th {\n",
       "        text-align: right;\n",
       "    }\n",
       "</style>\n",
       "<table border=\"1\" class=\"dataframe\">\n",
       "  <thead>\n",
       "    <tr style=\"text-align: right;\">\n",
       "      <th></th>\n",
       "      <th>continentExp</th>\n",
       "      <th>deaths</th>\n",
       "      <th>cases</th>\n",
       "    </tr>\n",
       "  </thead>\n",
       "  <tbody>\n",
       "    <tr>\n",
       "      <td>0</td>\n",
       "      <td>Africa</td>\n",
       "      <td>19317</td>\n",
       "      <td>909735</td>\n",
       "    </tr>\n",
       "    <tr>\n",
       "      <td>1</td>\n",
       "      <td>America</td>\n",
       "      <td>355582</td>\n",
       "      <td>9338314</td>\n",
       "    </tr>\n",
       "    <tr>\n",
       "      <td>2</td>\n",
       "      <td>Asia</td>\n",
       "      <td>94230</td>\n",
       "      <td>4145531</td>\n",
       "    </tr>\n",
       "    <tr>\n",
       "      <td>3</td>\n",
       "      <td>Europe</td>\n",
       "      <td>203934</td>\n",
       "      <td>2883933</td>\n",
       "    </tr>\n",
       "    <tr>\n",
       "      <td>4</td>\n",
       "      <td>Oceania</td>\n",
       "      <td>0</td>\n",
       "      <td>0</td>\n",
       "    </tr>\n",
       "  </tbody>\n",
       "</table>\n",
       "</div>"
      ],
      "text/plain": [
       "  continentExp  deaths    cases\n",
       "0       Africa   19317   909735\n",
       "1      America  355582  9338314\n",
       "2         Asia   94230  4145531\n",
       "3       Europe  203934  2883933\n",
       "4      Oceania       0        0"
      ]
     },
     "execution_count": 77,
     "metadata": {},
     "output_type": "execute_result"
    }
   ],
   "source": [
    "df17 = pd.DataFrame(d1)\n",
    "df17"
   ]
  },
  {
   "cell_type": "markdown",
   "metadata": {},
   "source": [
    "## From my dataframe the continent of Oceania has not registered a single case of Covid-19 yet"
   ]
  },
  {
   "cell_type": "markdown",
   "metadata": {},
   "source": [
    "## Pie chart"
   ]
  },
  {
   "cell_type": "code",
   "execution_count": 78,
   "metadata": {},
   "outputs": [
    {
     "data": {
      "text/plain": [
       "<matplotlib.axes._subplots.AxesSubplot at 0x1c398e39ac8>"
      ]
     },
     "execution_count": 78,
     "metadata": {},
     "output_type": "execute_result"
    },
    {
     "data": {
      "image/png": "[encoded data removed]",
      "text/plain": [
       "<Figure size 1440x720 with 1 Axes>"
      ]
     },
     "metadata": {},
     "output_type": "display_data"
    }
   ],
   "source": [
    "df17.plot(kind='pie',labels=['Africa', 'America', 'Asia', 'Europe', 'Oceania'], y='deaths', figsize=(20, 10), autopct='%1.1f%%')"
   ]
  },
  {
   "cell_type": "code",
   "execution_count": 81,
   "metadata": {},
   "outputs": [
    {
     "data": {
      "text/plain": [
       "<matplotlib.axes._subplots.AxesSubplot at 0x1c3997c5ac8>"
      ]
     },
     "execution_count": 81,
     "metadata": {},
     "output_type": "execute_result"
    },
    {
     "data": {
      "image/png": "[encoded data removed]",
      "text/plain": [
       "<Figure size 1440x720 with 1 Axes>"
      ]
     },
     "metadata": {
      "needs_background": "light"
     },
     "output_type": "display_data"
    }
   ],
   "source": [
    "df17.plot(kind='bar',x='continentExp',y='deaths', figsize=(20, 10), color='blue')"
   ]
  },
  {
   "cell_type": "markdown",
   "metadata": {},
   "source": [
    "## Comparing US response vs Canada response to coronavirus "
   ]
  },
  {
   "cell_type": "code",
   "execution_count": 84,
   "metadata": {},
   "outputs": [],
   "source": [
    "df18 = df.loc[df['year']==2020]\n",
    "df19=df18.loc[df['countriesAndTerritories']=='United_States_of_America']\n",
    "df20=df18.loc[df['countriesAndTerritories']=='Canada']\n",
    "df21=df18.loc[df['countriesAndTerritories']=='United_Kingdom']"
   ]
  },
  {
   "cell_type": "code",
   "execution_count": 85,
   "metadata": {},
   "outputs": [],
   "source": [
    "d11 = {'month': ['January', 'Febrauary', 'March', 'April', 'May', 'June', 'July'], 'deaths': [df19.loc[df19['month']==1]['deaths'].sum(),\n",
    "                                                                                             df19.loc[df19['month']==2]['deaths'].sum(),\n",
    "                                                                                             df19.loc[df19['month']==3]['deaths'].sum(),\n",
    "                                                                                             df19.loc[df19['month']==4]['deaths'].sum(),\n",
    "                                                                                             df19.loc[df19['month']==5]['deaths'].sum(),\n",
    "                                                                                             df19.loc[df19['month']==6]['deaths'].sum(),\n",
    "                                                                                             df19.loc[df19['month']==7]['deaths'].sum()]}\n",
    "d12 = {'month': ['January', 'Febrauary', 'March', 'April', 'May', 'June', 'July'], 'deaths': [df20.loc[df20['month']==1]['deaths'].sum(),\n",
    "                                                                                             df20.loc[df20['month']==2]['deaths'].sum(),\n",
    "                                                                                             df20.loc[df20['month']==3]['deaths'].sum(),\n",
    "                                                                                             df20.loc[df20['month']==4]['deaths'].sum(),\n",
    "                                                                                             df20.loc[df20['month']==5]['deaths'].sum(),\n",
    "                                                                                             df20.loc[df20['month']==6]['deaths'].sum(),\n",
    "                                                                                             df20.loc[df20['month']==7]['deaths'].sum()]}\n",
    "d13 = {'month': ['January', 'Febrauary', 'March', 'April', 'May', 'June', 'July'], 'deaths': [df21.loc[df21['month']==1]['deaths'].sum(),\n",
    "       df21.loc[df21['month']==2]['deaths'].sum(), df21.loc[df21['month']==3]['deaths'].sum(), df21.loc[df21['month']==4]['deaths'].sum(), \n",
    "       df21.loc[df21['month']==5]['deaths'].sum(), df21.loc[df21['month']==6]['deaths'].sum(), df21.loc[df21['month']==7]['deaths'].sum()]}"
   ]
  },
  {
   "cell_type": "code",
   "execution_count": 86,
   "metadata": {},
   "outputs": [],
   "source": [
    "df22 = pd.DataFrame(d11)\n",
    "df23 = pd.DataFrame(d12)\n",
    "df24 = pd.DataFrame(d13)"
   ]
  },
  {
   "cell_type": "code",
   "execution_count": 87,
   "metadata": {},
   "outputs": [
    {
     "data": {
      "text/plain": [
       "<matplotlib.axes._subplots.AxesSubplot at 0x1c397aa2488>"
      ]
     },
     "execution_count": 87,
     "metadata": {},
     "output_type": "execute_result"
    },
    {
     "data": {
      "image/png": "[encoded data removed]",
      "text/plain": [
       "<Figure size 1440x720 with 1 Axes>"
      ]
     },
     "metadata": {
      "needs_background": "light"
     },
     "output_type": "display_data"
    },
    {
     "data": {
      "image/png": "[encoded data removed]",
      "text/plain": [
       "<Figure size 1440x720 with 1 Axes>"
      ]
     },
     "metadata": {
      "needs_background": "light"
     },
     "output_type": "display_data"
    },
    {
     "data": {
      "image/png": "[encoded data removed]",
      "text/plain": [
       "<Figure size 1440x720 with 1 Axes>"
      ]
     },
     "metadata": {
      "needs_background": "light"
     },
     "output_type": "display_data"
    }
   ],
   "source": [
    "df22.plot(kind='line', x='month',y='deaths', color='red', figsize=(20,10), title='covid-19 deaths in US from January to July 2020')\n",
    "df23.plot(kind='line', x='month', y='deaths', color='green', figsize=(20,10), title='covid-19 deaths in Canada from January to July 2020')\n",
    "df24.plot(kind='line', x='month', y='deaths', color= 'blue', figsize=(20,10), title='covid-19 deaths in United Kingdom from January to July 2020')"
   ]
  },
  {
   "cell_type": "markdown",
   "metadata": {},
   "source": [
    "## The last two line plots which represent Canada and United Kingdom respectively, clearly shows Canada had it highest number of deaths in May and Uk in April.\n",
    "## From May up to present there has been a drastic drop in the death rate in Canada due to their effective and timely response to the virus. UK has witnessed a similar trend breginning from the month of April.\n",
    "## The United_States had it highest death rate in April and later witnessed a drastic drop up to June. From June the death rate in the US has been increasing steadily up to present"
   ]
  },
  {
   "cell_type": "code",
   "execution_count": 89,
   "metadata": {},
   "outputs": [
    {
     "data": {
      "text/html": [
       "<img src=\"https://i.cbc.ca/1.5554259.1588788406!/cpImage/httpImage/image.jpg_gen/derivatives/original_1180/covid-que-20200503.jpg\"/>"
      ],
      "text/plain": [
       "<IPython.core.display.Image object>"
      ]
     },
     "execution_count": 89,
     "metadata": {},
     "output_type": "execute_result"
    }
   ],
   "source": [
    "Image(url= \"https://i.cbc.ca/1.5554259.1588788406!/cpImage/httpImage/image.jpg_gen/derivatives/original_1180/covid-que-20200503.jpg\")"
   ]
  },
  {
   "cell_type": "markdown",
   "metadata": {},
   "source": [
    "## Prevention\n",
    "## * Wash your hands\n",
    "## * wear a mask\n",
    "## * Practice social distancing"
   ]
  },
  {
   "cell_type": "markdown",
   "metadata": {},
   "source": [
    "\n",
    "\n",
    "## COVID-19 is real, stay safe"
   ]
  },
  {
   "cell_type": "code",
   "execution_count": null,
   "metadata": {},
   "outputs": [],
   "source": []
  }
 ],
 "metadata": {
  "kernelspec": {
   "display_name": "Python 3",
   "language": "python",
   "name": "python3"
  },
  "language_info": {
   "codemirror_mode": {
    "name": "ipython",
    "version": 3
   },
   "file_extension": ".py",
   "mimetype": "text/x-python",
   "name": "python",
   "nbconvert_exporter": "python",
   "pygments_lexer": "ipython3",
   "version": "3.7.4"
  }
 },
 "nbformat": 4,
 "nbformat_minor": 4
}
